{
  "nbformat": 4,
  "nbformat_minor": 0,
  "metadata": {
    "colab": {
      "provenance": [],
      "toc_visible": true,
      "authorship_tag": "ABX9TyMELYTJLdHpWDlUOiMr/IYV",
      "include_colab_link": true
    },
    "kernelspec": {
      "name": "python3",
      "display_name": "Python 3"
    },
    "language_info": {
      "name": "python"
    }
  },
  "cells": [
    {
      "cell_type": "markdown",
      "metadata": {
        "id": "view-in-github",
        "colab_type": "text"
      },
      "source": [
        "<a href=\"https://colab.research.google.com/github/Illoizaur/Team1_Berezin-Andrusiak/blob/main/FirstProject.ipynb\" target=\"_parent\"><img src=\"https://colab.research.google.com/assets/colab-badge.svg\" alt=\"Open In Colab\"/></a>"
      ]
    },
    {
      "cell_type": "markdown",
      "source": [
        "##Data Preparation"
      ],
      "metadata": {
        "id": "6aAYkJTpshXG"
      }
    },
    {
      "cell_type": "markdown",
      "source": [
        "### Preaparing data"
      ],
      "metadata": {
        "id": "kgHDQVs6wLkE"
      }
    },
    {
      "cell_type": "code",
      "execution_count": null,
      "metadata": {
        "id": "afEjZVYlsV5e"
      },
      "outputs": [],
      "source": [
        "import pandas as pd\n",
        "\n",
        "train = pd.read_csv('../input/train.csv')\n",
        "test = pd.read_csv('../input/test.csv')"
      ]
    },
    {
      "cell_type": "markdown",
      "source": [
        "### Data investigation\n"
      ],
      "metadata": {
        "id": "btQmsmgPs_yQ"
      }
    },
    {
      "cell_type": "code",
      "source": [
        "train.head()"
      ],
      "metadata": {
        "id": "EMzActt0s1Aj"
      },
      "execution_count": null,
      "outputs": []
    },
    {
      "cell_type": "code",
      "source": [
        "train.tail()"
      ],
      "metadata": {
        "id": "EBMAE_xfs1pR"
      },
      "execution_count": null,
      "outputs": []
    },
    {
      "cell_type": "code",
      "source": [
        "train.shape"
      ],
      "metadata": {
        "id": "hPjt7789tRmA"
      },
      "execution_count": null,
      "outputs": []
    },
    {
      "cell_type": "code",
      "source": [
        "train.info()"
      ],
      "metadata": {
        "id": "fy-idc5TtaJc"
      },
      "execution_count": null,
      "outputs": []
    },
    {
      "cell_type": "markdown",
      "source": [
        "### Getting metadata"
      ],
      "metadata": {
        "id": "FrK5UH5btbug"
      }
    },
    {
      "cell_type": "code",
      "source": [
        "train.drop_duplicates()"
      ],
      "metadata": {
        "id": "VjOHHefGuAHU"
      },
      "execution_count": null,
      "outputs": []
    },
    {
      "cell_type": "code",
      "source": [
        "data = []\n",
        "for f in train.columns:\n",
        "    if f == 'target':\n",
        "        role = 'target'\n",
        "    elif f == 'id':\n",
        "        role = 'id'\n",
        "    else:\n",
        "        role = 'input'\n",
        "\n",
        "    if 'bin' in f or f == 'target':\n",
        "        level = 'binary'\n",
        "    elif 'cat' in f or f == 'id':\n",
        "        level = 'nominal'\n",
        "    elif train[f].dtype == float:\n",
        "        level = 'interval'\n",
        "    elif train[f].dtype == int:\n",
        "        level = 'ordinal'\n",
        "\n",
        "    keep = True\n",
        "    if f == 'id':\n",
        "        keep = False\n",
        "\n",
        "    dtype = train[f].dtype\n",
        "\n",
        "    f_dict = {\n",
        "        'varname': f,\n",
        "        'role': role,\n",
        "        'level': level,\n",
        "        'keep': keep,\n",
        "        'dtype': dtype\n",
        "    }\n",
        "    data.append(f_dict)\n",
        "\n",
        "meta = pd.DataFrame(data, columns=['varname', 'role', 'level', 'keep', 'dtype'])\n",
        "meta.set_index('varname', inplace=True)"
      ],
      "metadata": {
        "id": "SdVI6w0uuPQ1"
      },
      "execution_count": null,
      "outputs": []
    },
    {
      "cell_type": "markdown",
      "source": [
        "Defining data balance"
      ],
      "metadata": {
        "id": "zPN7nrvEvQdV"
      }
    },
    {
      "cell_type": "code",
      "source": [
        "v = meta[(meta.role == 'target') & (meta.keep)].index\n",
        "train[v].describe()"
      ],
      "metadata": {
        "id": "EquBlrN6ukkW"
      },
      "execution_count": null,
      "outputs": []
    },
    {
      "cell_type": "markdown",
      "source": [
        "Data is strongly imbalanced"
      ],
      "metadata": {
        "id": "MXokl1hGvU-P"
      }
    },
    {
      "cell_type": "markdown",
      "source": [
        "## Balancing dataset"
      ],
      "metadata": {
        "id": "KN7TEqr6v0UR"
      }
    },
    {
      "cell_type": "markdown",
      "source": [
        "### Undersampling"
      ],
      "metadata": {
        "id": "fxBbHJP4wB7k"
      }
    },
    {
      "cell_type": "code",
      "source": [
        "desired_apriori=0.15\n",
        "\n",
        "idx_0 = train[train.target == 0].index\n",
        "idx_1 = train[train.target == 1].index\n",
        "\n",
        "nb_0 = len(train.loc[idx_0])\n",
        "nb_1 = len(train.loc[idx_1])\n",
        "\n",
        "undersampling_rate = ((1-desired_apriori)*nb_1)/(nb_0*desired_apriori)\n",
        "undersampled_nb_0 = int(undersampling_rate*nb_0)\n",
        "print('Rate to undersample records with target=0: {}'.format(undersampling_rate))\n",
        "print('Number of records with target=0 after undersampling: {}'.format(undersampled_nb_0))\n",
        "\n",
        "undersampled_idx = shuffle(idx_0, random_state=37, n_samples=undersampled_nb_0)\n",
        "\n",
        "idx_list = list(undersampled_idx) + list(idx_1)\n",
        "\n",
        "train = train.loc[idx_list].reset_index(drop=True)"
      ],
      "metadata": {
        "id": "UxgRQ8abwThA"
      },
      "execution_count": null,
      "outputs": []
    }
  ]
}